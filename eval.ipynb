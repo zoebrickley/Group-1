{
 "cells": [
  {
   "cell_type": "code",
   "execution_count": 21,
   "metadata": {},
   "outputs": [
    {
     "ename": "ModuleNotFoundError",
     "evalue": "No module named 'pandas'",
     "output_type": "error",
     "traceback": [
      "\u001b[0;31m---------------------------------------------------------------------------\u001b[0m",
      "\u001b[0;31mModuleNotFoundError\u001b[0m                       Traceback (most recent call last)",
      "\u001b[1;32m/Users/sharonlee/Documents/Group-1/eval.ipynb Cell 1\u001b[0m line \u001b[0;36m2\n\u001b[1;32m      <a href='vscode-notebook-cell:/Users/sharonlee/Documents/Group-1/eval.ipynb#W0sZmlsZQ%3D%3D?line=0'>1</a>\u001b[0m \u001b[39mimport\u001b[39;00m \u001b[39mnumpy\u001b[39;00m \u001b[39mas\u001b[39;00m \u001b[39mnp\u001b[39;00m \n\u001b[0;32m----> <a href='vscode-notebook-cell:/Users/sharonlee/Documents/Group-1/eval.ipynb#W0sZmlsZQ%3D%3D?line=1'>2</a>\u001b[0m \u001b[39mimport\u001b[39;00m \u001b[39mpandas\u001b[39;00m \u001b[39mas\u001b[39;00m \u001b[39mpd\u001b[39;00m\n\u001b[1;32m      <a href='vscode-notebook-cell:/Users/sharonlee/Documents/Group-1/eval.ipynb#W0sZmlsZQ%3D%3D?line=2'>3</a>\u001b[0m \u001b[39mfrom\u001b[39;00m \u001b[39mopenai\u001b[39;00m \u001b[39mimport\u001b[39;00m OpenAI\n\u001b[1;32m      <a href='vscode-notebook-cell:/Users/sharonlee/Documents/Group-1/eval.ipynb#W0sZmlsZQ%3D%3D?line=3'>4</a>\u001b[0m \u001b[39mfrom\u001b[39;00m \u001b[39msklearn\u001b[39;00m\u001b[39m.\u001b[39;00m\u001b[39mmetrics\u001b[39;00m \u001b[39mimport\u001b[39;00m confusion_matrix\n",
      "\u001b[0;31mModuleNotFoundError\u001b[0m: No module named 'pandas'"
     ]
    }
   ],
   "source": [
    "import numpy as np \n",
    "import pandas as pd\n",
    "from openai import OpenAI3\n",
    "from sklearn.metrics import confusion_matrix\n",
    "from DiscordBot.secret import OPENAI_KEY"
   ]
  },
  {
   "cell_type": "code",
   "execution_count": null,
   "metadata": {},
   "outputs": [],
   "source": [
    "\"DEFAULT_MSGS = [\n",
    "    {\\\"role\\\": \\\"system\\\", \\\"content\\\": \\\"Objective: Assign scores to each statement based on the level of inappropriateness and the severity of consequences (explicit or implied). Use the detailed criteria below to give scores from 0 to 5: \\\\n\\\\n0 - Neutral or Positive Interaction: Regular conversations or positive remarks with no implications or demands.\\\\n1 - Mildly Inappropriate: Comments that are suggestive or slightly provocative but do not contain threats or consequences.\\\\n2 - Demand with Mild Consequences: Explicit demands for specific actions coupled with mild consequences for non-compliance, such as emotional manipulation or subtle threats.\\\\n3 - Strong Implied Consequences Without Demand: Statements that hint at significant negative outcomes without direct demands; the focus is on the implications of potential consequences.\\\\n4 - Demand with Severe Implied Consequences: Explicit demands paired with threats of severe consequences, which could seriously affect personal, social, or professional life.\\\\n5 - Explicit Severe Consequences: Statements include explicit severe consequences, such as threats to employment, reputation, or personal safety, with or without an explicit demand.\\\\n\\\\nGuidelines for Interpretation: \\\\n\\\\nContextual Sensitivity: Pay close attention to the context in which statements are made, as this can influence severity. \\\\nHandling Ambiguities: In cases where the severity level is ambiguous, consider the most likely impact of the statement based on the implied or explicit content.\\\"},\n",
    "    {\\\"role\\\": \\\"system\\\", \\\"content\\\": \\\"Instructions: Given the message, classify it by returning the appropriate number (0-5) that best matches the level of inappropriateness and the severity of consequences (explicit or implied). Your response should only contain one number, and nothing else.\\\"},\n",
    "]\"\n"
   ]
  },
  {
   "cell_type": "code",
   "execution_count": null,
   "metadata": {},
   "outputs": [],
   "source": [
    "data = pd.read_csv(\"path-to-dataset.csv\")\n",
    "gpt = OpenAI(api_key=OPENAI_KEY)\n",
    "eval_data = []\n",
    "for i in range(len(data)):\n",
    "    text = data[\"text\"][i]\n",
    "    label = data[\"label\"][i]\n",
    "    response = gpt.chat.completions.create(\n",
    "        model=\"gpt-4\",\n",
    "        messages = DEFAULT_MSGS + [{\"role\": \"user\", \"content\": text}],\n",
    "        max_tokens=300,\n",
    "    )\n",
    "    pred = int(response.choices[0].message.content)\n",
    "    eval_data.append((pred, label))"
   ]
  },
  {
   "cell_type": "code",
   "execution_count": null,
   "metadata": {},
   "outputs": [],
   "source": [
    "eval_data = [(0, 1), (1, 2), (2, 3), (3, 4), (4, 3), (5, 5), (2, 1), (4, 4), (1, 0)]\n",
    "\n",
    "def group_to_bucket(value):\n",
    "    if value in [0, 1, 2]:\n",
    "        return 0  # No action\n",
    "    elif value in [3, 4]:\n",
    "        return 1  # Review \n",
    "    elif value == 5:\n",
    "        return 2  # Suspend\n",
    "    else:\n",
    "        raise ValueError(\"Value out of expected range\")\n",
    "\n",
    "grouped_preds = [group_to_bucket(pred) for pred, label in eval_data]\n",
    "grouped_labels = [group_to_bucket(label) for pred, label in eval_data]\n",
    "\n",
    "conf_matrix = confusion_matrix(grouped_labels, grouped_preds, labels=[0, 1, 2])"
   ]
  },
  {
   "cell_type": "code",
   "execution_count": null,
   "metadata": {},
   "outputs": [
    {
     "data": {
      "text/plain": [
       "array([[4, 0, 0],\n",
       "       [1, 3, 0],\n",
       "       [0, 0, 1]])"
      ]
     },
     "execution_count": 15,
     "metadata": {},
     "output_type": "execute_result"
    }
   ],
   "source": [
    "conf_matrix"
   ]
  }
 ],
 "metadata": {
  "kernelspec": {
   "display_name": "Python 3.12.2",
   "language": "python",
   "name": "python3"
  },
  "language_info": {
   "codemirror_mode": {
    "name": "ipython",
    "version": 3
   },
   "file_extension": ".py",
   "mimetype": "text/x-python",
   "name": "python",
   "nbconvert_exporter": "python",
   "pygments_lexer": "ipython3",
   "version": "3.9.6"
  },
  "orig_nbformat": 4,
  "vscode": {
   "interpreter": {
    "hash": "34cc618fdc8432d84932d77863fe2e8eacdb5ff82ff567714f764a6b0cce1efa"
   }
  }
 },
 "nbformat": 4,
 "nbformat_minor": 2
}
