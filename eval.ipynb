{
 "cells": [
  {
   "cell_type": "code",
   "execution_count": 2,
   "metadata": {},
   "outputs": [],
   "source": [
    "import numpy as np \n",
    "import pandas as pd\n",
    "from openai import OpenAI\n",
    "from sklearn.metrics import confusion_matrix\n",
    "from DiscordBot.secret import OPENAI_KEY"
   ]
  },
  {
   "cell_type": "code",
   "execution_count": 3,
   "metadata": {},
   "outputs": [],
   "source": [
    "DEFAULT_MSGS = [\n",
    "    {\"role\": \"system\", \"content\": \"Objective: Assign scores to each statement based on the level of inappropriateness and the severity of consequences (explicit or implied). Use the detailed criteria below to give scores from 0 to 5: \\\\n\\\\n0 - Neutral or Positive Interaction: Regular conversations or positive remarks with no implications or demands.\\\\n1 - Mildly Inappropriate: Comments that are suggestive or slightly provocative but do not contain threats or consequences.\\\\n2 - Demand with Mild Consequences: Explicit demands for specific actions coupled with mild consequences for non-compliance, such as emotional manipulation or subtle threats.\\\\n3 - Strong Implied Consequences Without Demand: Statements that hint at significant negative outcomes without direct demands; the focus is on the implications of potential consequences.\\\\n4 - Demand with Severe Implied Consequences: Explicit demands paired with threats of severe consequences, which could seriously affect personal, social, or professional life.\\\\n5 - Explicit Severe Consequences: Statements include explicit severe consequences, such as threats to employment, reputation, or personal safety, with or without an explicit demand.\\\\n\\\\nGuidelines for Interpretation: \\\\n\\\\nContextual Sensitivity: Pay close attention to the context in which statements are made, as this can influence severity. \\\\nHandling Ambiguities: In cases where the severity level is ambiguous, consider the most likely impact of the statement based on the implied or explicit content.\"},\n",
    "    {\"role\": \"system\", \"content\": \"Instructions: Given the message, classify it by returning the appropriate number (0-5) that best matches the level of inappropriateness and the severity of consequences (explicit or implied). Your response should only contain one number, and nothing else.\"},\n",
    "]\n"
   ]
  },
  {
   "cell_type": "code",
   "execution_count": 5,
   "metadata": {},
   "outputs": [
    {
     "name": "stdout",
     "output_type": "stream",
     "text": [
      "0\n",
      "1\n",
      "2\n",
      "3\n",
      "4\n",
      "5\n",
      "6\n",
      "7\n",
      "8\n",
      "9\n",
      "10\n",
      "11\n",
      "12\n",
      "13\n",
      "14\n",
      "15\n",
      "16\n",
      "17\n",
      "18\n",
      "19\n",
      "20\n",
      "21\n",
      "22\n",
      "23\n"
     ]
    }
   ],
   "source": [
    "data = pd.read_csv(\"dataset.csv\")\n",
    "gpt = OpenAI(api_key=OPENAI_KEY)\n",
    "eval_data = []\n",
    "for i in range(len(data)):\n",
    "    print(i)\n",
    "    text = data[\"Text\"][i]\n",
    "    label = data[\"Rating\"][i]\n",
    "    response = gpt.chat.completions.create(\n",
    "        model=\"gpt-4\",\n",
    "        messages = DEFAULT_MSGS + [{\"role\": \"user\", \"content\": text}],\n",
    "        max_tokens=300,\n",
    "    )\n",
    "    pred = int(response.choices[0].message.content)\n",
    "    eval_data.append((pred, label))"
   ]
  },
  {
   "cell_type": "code",
   "execution_count": 7,
   "metadata": {},
   "outputs": [],
   "source": [
    "def group_to_bucket(value):\n",
    "    if value in [0, 1, 2]:\n",
    "        return 0  # No action\n",
    "    elif value in [3, 4]:\n",
    "        return 1  # Review \n",
    "    elif value == 5:\n",
    "        return 2  # Suspend\n",
    "    else:\n",
    "        raise ValueError(\"Value out of expected range\")\n",
    "\n",
    "grouped_preds = [group_to_bucket(pred) for pred, label in eval_data]\n",
    "grouped_labels = [group_to_bucket(label) for pred, label in eval_data]\n",
    "\n",
    "conf_matrix = confusion_matrix(grouped_labels, grouped_preds, labels=[0, 1, 2])"
   ]
  },
  {
   "cell_type": "code",
   "execution_count": 8,
   "metadata": {},
   "outputs": [
    {
     "data": {
      "text/plain": [
       "array([[12,  0,  0],\n",
       "       [ 1,  7,  0],\n",
       "       [ 0,  3,  1]])"
      ]
     },
     "execution_count": 8,
     "metadata": {},
     "output_type": "execute_result"
    }
   ],
   "source": [
    "conf_matrix"
   ]
  },
  {
   "cell_type": "code",
   "execution_count": 9,
   "metadata": {},
   "outputs": [
    {
     "data": {
      "text/plain": [
       "[(0, 0),\n",
       " (0, 0),\n",
       " (0, 0),\n",
       " (0, 0),\n",
       " (1, 1),\n",
       " (1, 1),\n",
       " (1, 1),\n",
       " (1, 1),\n",
       " (2, 2),\n",
       " (2, 2),\n",
       " (2, 2),\n",
       " (2, 2),\n",
       " (4, 3),\n",
       " (3, 3),\n",
       " (2, 3),\n",
       " (4, 3),\n",
       " (4, 4),\n",
       " (4, 4),\n",
       " (4, 4),\n",
       " (4, 4),\n",
       " (5, 5),\n",
       " (4, 5),\n",
       " (4, 5),\n",
       " (4, 5)]"
      ]
     },
     "execution_count": 9,
     "metadata": {},
     "output_type": "execute_result"
    }
   ],
   "source": [
    "eval_data"
   ]
  }
 ],
 "metadata": {
  "kernelspec": {
   "display_name": "Python 3.12.2",
   "language": "python",
   "name": "python3"
  },
  "language_info": {
   "codemirror_mode": {
    "name": "ipython",
    "version": 3
   },
   "file_extension": ".py",
   "mimetype": "text/x-python",
   "name": "python",
   "nbconvert_exporter": "python",
   "pygments_lexer": "ipython3",
   "version": "3.12.2"
  },
  "orig_nbformat": 4,
  "vscode": {
   "interpreter": {
    "hash": "34cc618fdc8432d84932d77863fe2e8eacdb5ff82ff567714f764a6b0cce1efa"
   }
  }
 },
 "nbformat": 4,
 "nbformat_minor": 2
}
